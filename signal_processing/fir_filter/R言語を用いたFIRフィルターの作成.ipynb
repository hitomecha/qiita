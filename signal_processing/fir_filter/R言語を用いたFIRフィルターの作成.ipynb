{
 "cells": [
  {
   "cell_type": "markdown",
   "metadata": {},
   "source": [
    "# IIRフィルター"
   ]
  },
  {
   "cell_type": "code",
   "execution_count": 1,
   "metadata": {
    "collapsed": false
   },
   "outputs": [
    {
     "name": "stderr",
     "output_type": "stream",
     "text": [
      "\n",
      "Attaching package: ‘signal’\n",
      "\n",
      "The following objects are masked from ‘package:stats’:\n",
      "\n",
      "    filter, poly\n",
      "\n"
     ]
    }
   ],
   "source": [
    "#signalパッケージのダウンロード\n",
    "#install.packages('signal')\n",
    "#ライブラリーの読み込み\n",
    "library('signal')"
   ]
  },
  {
   "cell_type": "code",
   "execution_count": 2,
   "metadata": {
    "collapsed": false,
    "scrolled": false
   },
   "outputs": [
    {
     "data": {
      "text/html": [
       "<strong>pdf:</strong> 2"
      ],
      "text/latex": [
       "\\textbf{pdf:} 2"
      ],
      "text/markdown": [
       "**pdf:** 2"
      ],
      "text/plain": [
       "pdf \n",
       "  2 "
      ]
     },
     "metadata": {},
     "output_type": "display_data"
    }
   ],
   "source": [
    "#入力データの作成（周波数が10Hzと50Hzのサイン波のデータの合成、サンプリング周波数：1kHz、１０秒間のデータ）\n",
    "time <- seq(from=0, by=1/1000, length=10000) #時dev.off() 間軸\n",
    "data <- sin(2*pi*10*time) + sin(2*pi*50*time)\n",
    "\n",
    "#入力データの図示\n",
    "png('images/sin10_50hz.png' , pointsize = 18, width = 500, height = 500)\n",
    "plot(time, data, t=\"l\", xlim=c(1, 1.5))\n",
    "dev.off() "
   ]
  },
  {
   "cell_type": "code",
   "execution_count": 3,
   "metadata": {
    "collapsed": false
   },
   "outputs": [
    {
     "data": {
      "text/html": [
       "<strong>pdf:</strong> 2"
      ],
      "text/latex": [
       "\\textbf{pdf:} 2"
      ],
      "text/markdown": [
       "**pdf:** 2"
      ],
      "text/plain": [
       "pdf \n",
       "  2 "
      ]
     },
     "metadata": {},
     "output_type": "display_data"
    }
   ],
   "source": [
    "#周波数解析\n",
    "data_fft <- fft(data)\n",
    "data_psd <- abs(data_fft)^2\n",
    "plot_fft <- seq(from=1/10000, by = 1000/10000, to=500)\n",
    "\n",
    "png('images/fft_sin10_50hz.png' , pointsize = 18, width = 500, height = 500)\n",
    "plot(plot_fft, data_psd[1:(length(data_psd)/2)], t=\"l\", log=\"x\", xlab=\"frequency (Hz)\", ylab=\"PSD (1/Hz)\")\n",
    "dev.off() "
   ]
  },
  {
   "cell_type": "code",
   "execution_count": 4,
   "metadata": {
    "collapsed": false
   },
   "outputs": [],
   "source": [
    "#バンドパスフィルタの設計\n",
    "#FIRフィルターの各パラメータ\n",
    "fil_N <- 128\n",
    "#フィルターの次数\n",
    "fs <- 1000  #サンプリング周波数\n",
    "fn <- fs/2  #ナイキスト周波数\n",
    "fc <- c(5,15) #帯域通過周波数\n",
    "fc_norm <- fc/fn  #周波数の正規化\n",
    "\n",
    "fir_filter <- fir1(fil_N, fc_norm, type=\"pass\")"
   ]
  },
  {
   "cell_type": "code",
   "execution_count": 5,
   "metadata": {
    "collapsed": false
   },
   "outputs": [
    {
     "data": {},
     "metadata": {},
     "output_type": "display_data"
    },
    {
     "data": {
      "text/html": [
       "<strong>pdf:</strong> 2"
      ],
      "text/latex": [
       "\\textbf{pdf:} 2"
      ],
      "text/markdown": [
       "**pdf:** 2"
      ],
      "text/plain": [
       "pdf \n",
       "  2 "
      ]
     },
     "metadata": {},
     "output_type": "display_data"
    }
   ],
   "source": [
    "png('images/fir5-15hz.png' , pointsize = 18, width = 500, height = 500)\n",
    "freqz(fir_filter, Fs=fs)  #フィルター特性の図示\n",
    "dev.off() "
   ]
  },
  {
   "cell_type": "code",
   "execution_count": 6,
   "metadata": {
    "collapsed": false
   },
   "outputs": [],
   "source": [
    "#設計したフィルターを入力データに適応\n",
    "data_fil <- filtfilt(fir_filter, data)"
   ]
  },
  {
   "cell_type": "code",
   "execution_count": 7,
   "metadata": {
    "collapsed": false
   },
   "outputs": [
    {
     "data": {
      "text/html": [
       "<strong>pdf:</strong> 2"
      ],
      "text/latex": [
       "\\textbf{pdf:} 2"
      ],
      "text/markdown": [
       "**pdf:** 2"
      ],
      "text/plain": [
       "pdf \n",
       "  2 "
      ]
     },
     "metadata": {},
     "output_type": "display_data"
    },
    {
     "data": {
      "text/html": [
       "<strong>pdf:</strong> 2"
      ],
      "text/latex": [
       "\\textbf{pdf:} 2"
      ],
      "text/markdown": [
       "**pdf:** 2"
      ],
      "text/plain": [
       "pdf \n",
       "  2 "
      ]
     },
     "metadata": {},
     "output_type": "display_data"
    }
   ],
   "source": [
    "#フィルターを通したデータの図示\n",
    "png('images/firfilter_sin10_50hz.png' , pointsize = 18, width = 500, height = 500)\n",
    "plot(time, data_fil, t=\"l\", xlim=c(1, 1.5))\n",
    "dev.off() \n",
    "data_fft <- fft(data_fil)\n",
    "data_psd <- abs(data_fft)^2\n",
    "png('images/fft_firfilter_sin10_50hz.png' , pointsize = 18, width = 500, height = 500)\n",
    "plot(plot_fft, data_psd[1:(length(data_psd)/2)], t=\"l\", log=\"x\", xlab=\"frequency (Hz)\", ylab=\"PSD (1/Hz)\")\n",
    "dev.off() "
   ]
  },
  {
   "cell_type": "code",
   "execution_count": null,
   "metadata": {
    "collapsed": true
   },
   "outputs": [],
   "source": []
  }
 ],
 "metadata": {
  "kernelspec": {
   "display_name": "R",
   "language": "R",
   "name": "ir"
  },
  "language_info": {
   "codemirror_mode": "r",
   "file_extension": ".r",
   "mimetype": "text/x-r-source",
   "name": "R",
   "pygments_lexer": "r",
   "version": "3.4.1"
  }
 },
 "nbformat": 4,
 "nbformat_minor": 0
}
